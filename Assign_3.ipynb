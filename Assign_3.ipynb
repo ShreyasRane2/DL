{
 "cells": [
  {
   "cell_type": "code",
   "execution_count": null,
   "id": "fecc685e-3067-4d5b-ac16-ab1bb23edcba",
   "metadata": {},
   "outputs": [],
   "source": [
    "import numpy as np\n",
    "import pandas as pd\n",
    "import matplotlib.pyplot as plt\n",
    "from matplotlib.image import imread\n",
    "import cv2\n",
    "import random\n",
    "import os\n",
    "from os import listdir\n",
    "from PIL import Image\n",
    "import tensorflow as tf\n",
    "from keras.preprocessing import image\n",
    "from tensorflow. keras.utils import img_to_array, array_to_img\n",
    "from keras.optimizers import Adam\n",
    "from keras.models import Sequential\n",
    "from keras.layers import Conv2D, MaxPooling2D\n",
    "from keras.layers import Activation, Flatten, Dropout, Dense\n",
    "from sklearn. model_selection import train_test_split\n",
    "from keras.models import model_from_json\n",
    "from keras.utils import to_categorical"
   ]
  },
  {
   "cell_type": "code",
   "execution_count": null,
   "id": "a2244e2a-17fd-4de9-a225-49080cb31300",
   "metadata": {},
   "outputs": [],
   "source": [
    " print(tf. __version__)"
   ]
  },
  {
   "cell_type": "code",
   "execution_count": null,
   "id": "e0301f89-47ac-4b69-b6e4-ed4ccd2994f7",
   "metadata": {},
   "outputs": [],
   "source": [
    " dataset_path = \"C:\\Plant-Disease-Detection\\Dataset\""
   ]
  },
  {
   "cell_type": "code",
   "execution_count": null,
   "id": "9f313acb-7cd7-4887-9d03-1f5a850ccbb1",
   "metadata": {},
   "outputs": [],
   "source": [
    " plt.figure(figsize = (12, 12))\n",
    " dataset_path = \"C:\\Plant-Disease-Detection\\Dataset\\Potato___Early_blight\"\n",
    " for i in range(1, 17):\n",
    " plt.subplot(4, 4, i)\n",
    " plt.tight_layout()\n",
    " rand_img = imread(dataset_path +'/'+ random.choice(sorted(os.listdir(dataset_path))))\n",
    " plt.imshow(rand_img)\n",
    " plt.xlabel(rand_img.shape[1], fontsize = 10) # width of image\n",
    " plt.ylabel(rand_img.shape[0], fontsize = 10) # height of image"
   ]
  },
  {
   "cell_type": "code",
   "execution_count": null,
   "id": "8e72df35-f259-4711-9dc3-4786093effa0",
   "metadata": {},
   "outputs": [],
   "source": [
    "# Converting Images to array \n",
    "def convert_image_to_array(image_dir):\n",
    "    try:\n",
    "        image = cv2.imread(image_dir)\n",
    "        if image is not None :\n",
    "            image = cv2.resize(image, (256, 256))  \n",
    "            return img_to_array(image)\n",
    "        else :\n",
    "            return np.array([])\n",
    "    except Exception as e:\n",
    "        print(f\"Error : {e}\")\n",
    "        return None\n",
    " dataset_path = \"C:\\Plant-Disease-Detection\\Dataset\"\n",
    " labels = os.listdir(dataset_path)"
   ]
  },
  {
   "cell_type": "code",
   "execution_count": null,
   "id": "75e6fe27-f308-4888-8bdc-391f8bb26435",
   "metadata": {},
   "outputs": [],
   "source": [
    "dataset_path = \"C:\\Plant-Disease-Detection\\Dataset\"\n",
    " root_dir = listdir(dataset_path)\n",
    " image_list, label_list = [], []\n",
    " all_labels = ['Corn-Common_rust', 'Potato-Early_blight', 'Tomato-Bacterial_spot']\n",
    " binary_labels = [0, 1, 2]\n",
    " temp = -1\n",
    " # Reading and converting image to numpy array\n",
    " for directory in root_dir:\n",
    " plant_image_list = listdir(f\"{dataset_path}/{directory}\")\n",
    " temp += 1\n",
    " for files in plant_image_list:\n",
    " image_path = f\"{dataset_path}/{directory}/{files}\"\n",
    " image_list.append(convert_image_to_array(image_path))\n",
    " label_list.append(binary_labels[temp])"
   ]
  },
  {
   "cell_type": "code",
   "execution_count": null,
   "id": "cc84f154-4aef-43f7-86cb-981db86a299a",
   "metadata": {},
   "outputs": [],
   "source": [
    " # Visualize the number of classes count\n",
    " label_counts = pd.DataFrame(label_list).value_counts()\n",
    " label_counts.head()"
   ]
  },
  {
   "cell_type": "code",
   "execution_count": null,
   "id": "b4e74298-f8e9-4f17-a5d3-22745af06253",
   "metadata": {},
   "outputs": [],
   "source": [
    "image_list[0].shape"
   ]
  },
  {
   "cell_type": "code",
   "execution_count": null,
   "id": "c133f85a-a273-4b2d-95ce-0100136216b9",
   "metadata": {},
   "outputs": [],
   "source": [
    "label_list = np.array(label_list)\n",
    " label_list.shape"
   ]
  },
  {
   "cell_type": "code",
   "execution_count": null,
   "id": "988e6fb9-f779-4cd7-9073-3608fcb66721",
   "metadata": {},
   "outputs": [],
   "source": [
    " x_train, x_test, y_train, y_test = train_test_split(image_list, label_list, test_size=0.2, random_state = 10) \n",
    "# Now we will normalize the dataset of our images. As pixel values ranges from 0 to 255 so we will divide each image p\n",
    " x_train = np.array(x_train, dtype=np.float16) / 225.0\n",
    " x_test = np.array(x_test, dtype=np.float16) / 225.0\n",
    " x_train = x_train.reshape(-1, 256, 256, 3)\n",
    " x_test = x_test.reshape(-1, 256, 256, 3)"
   ]
  },
  {
   "cell_type": "code",
   "execution_count": null,
   "id": "45160e0f-fdf0-4ac8-85e5-6dc91a3d07c3",
   "metadata": {},
   "outputs": [],
   "source": [
    "#one-hot Encoding\n",
    "y_train = to_categorical(y_train)\n",
    " y_test = to_categorical(y_test)"
   ]
  },
  {
   "cell_type": "code",
   "execution_count": null,
   "id": "07e903cf-0763-429b-80b9-cc564bd4493c",
   "metadata": {},
   "outputs": [],
   "source": [
    " model = Sequential()\n",
    " model.add(Conv2D(32, (3, 3), padding = \"same\",input_shape = (256, 256, 3), activation = \"relu\"))\n",
    " model.add(MaxPooling2D(pool_size = (3, 3)))\n",
    " model.add(Conv2D(16, (3, 3), padding = \"same\", activation = \"relu\"))\n",
    " model.add(MaxPooling2D(pool_size = (2, 2)))\n",
    " model.add(Flatten())\n",
    " model.add(Dense(8, activation = \"relu\"))\n",
    " model.add(Dense(3, activation = \"softmax\"))\n",
    " model.summary()"
   ]
  },
  {
   "cell_type": "code",
   "execution_count": null,
   "id": "4cec59cd-08eb-4bce-9015-637c5113406f",
   "metadata": {},
   "outputs": [],
   "source": [
    " model.compile(loss = 'categorical_crossentropy', optimizer = Adam(0.0001), metrics = ['accuracy'])\n",
    " # Splitting the training data set into training and validation data sets\n",
    " x_train, x_val, y_train, y_val = train_test_split(x_train, y_train, test_size = 0.2, random_state = 10)\n",
    " # Training the model\n",
    " epochs = 50\n",
    " batch_size = 128\n",
    " history = model.fit(x_train, y_train, batch_size = batch_size, epochs = epochs, validation_data = (x_val, y_val))"
   ]
  },
  {
   "cell_type": "code",
   "execution_count": null,
   "id": "61ea3e0a-44c3-49d0-afab-33ea5ebcde71",
   "metadata": {},
   "outputs": [],
   "source": [
    " model.save(\"C:\\Plant-Disease-Detection\\Model\\plant_disease_model.h5\")"
   ]
  },
  {
   "cell_type": "code",
   "execution_count": null,
   "id": "376e294c-2242-4ec2-858d-c145b419970f",
   "metadata": {},
   "outputs": [],
   "source": [
    " # Plot the training history\n",
    " plt.figure(figsize = (12, 5))\n",
    " plt.plot(history.history['accuracy'], color = 'r')\n",
    " plt.plot(history.history['val_accuracy'], color = 'b')\n",
    " plt.title('Model Accuracy')\n",
    " plt.ylabel('Accuracy')\n",
    " plt.xlabel('Epochs')\n",
    " plt.legend(['train', 'val'])\n",
    "plt.show()"
   ]
  },
  {
   "cell_type": "code",
   "execution_count": null,
   "id": "078beeb6-e848-4173-844c-6e518e40d894",
   "metadata": {},
   "outputs": [],
   "source": [
    " print(\"Calculating model accuracy\")\n",
    " scores = model.evaluate(x_test, y_test)\n",
    " print(f\"Test Accuracy: {scores[1] * 100}\")"
   ]
  },
  {
   "cell_type": "code",
   "execution_count": null,
   "id": "9440be19-9267-4f36-972f-1d938d5433c6",
   "metadata": {},
   "outputs": [],
   "source": [
    "#Make predictions on testing data\n",
    "y_pred = model.predict(x_test)"
   ]
  },
  {
   "cell_type": "code",
   "execution_count": null,
   "id": "de12e22e-b57f-424c-a78f-85c44a6c049d",
   "metadata": {},
   "outputs": [],
   "source": [
    " # Plotting image to compare\n",
    " img = array_to_img(x_test[11])\n",
    " img"
   ]
  },
  {
   "cell_type": "code",
   "execution_count": null,
   "id": "cf677f0c-330c-4f24-a8dc-56a2a0199033",
   "metadata": {},
   "outputs": [],
   "source": [
    " # Finding max value from predition list and comaparing original value vs predicted\n",
    " print(\"Originally : \", all_labels[np.argmax(y_test[11])])\n",
    " print(\"Predicted : \", all_labels[np.argmax(y_pred[4])])\n",
    " print(y_pred[2])"
   ]
  },
  {
   "cell_type": "code",
   "execution_count": null,
   "id": "20b04a1c-5f87-419f-88bf-e33924211042",
   "metadata": {},
   "outputs": [],
   "source": [
    "for i in range(50):\n",
    " print (all_labels[np.argmax(y_test[i])], \" \", all_labels[np.argmax(y_pred [1])])"
   ]
  },
  {
   "cell_type": "code",
   "execution_count": null,
   "id": "5bce1909-1bf0-4c92-8d6d-194e068d9395",
   "metadata": {},
   "outputs": [],
   "source": []
  }
 ],
 "metadata": {
  "kernelspec": {
   "display_name": "Python 3 (ipykernel)",
   "language": "python",
   "name": "python3"
  },
  "language_info": {
   "codemirror_mode": {
    "name": "ipython",
    "version": 3
   },
   "file_extension": ".py",
   "mimetype": "text/x-python",
   "name": "python",
   "nbconvert_exporter": "python",
   "pygments_lexer": "ipython3",
   "version": "3.10.0"
  }
 },
 "nbformat": 4,
 "nbformat_minor": 5
}
